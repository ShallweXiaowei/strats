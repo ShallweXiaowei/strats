{
 "cells": [
  {
   "cell_type": "code",
   "execution_count": 84,
   "metadata": {},
   "outputs": [],
   "source": [
    "import numpy as np\n",
    "import seaborn as sns"
   ]
  },
  {
   "cell_type": "code",
   "execution_count": 104,
   "metadata": {},
   "outputs": [],
   "source": [
    "# given speed, time of stop, return time used.\n",
    "def stop_time(n,speed):\n",
    "    return 100/speed + (n-1)*(5+100/speed)\n",
    "# given time, return distance from starting point\n",
    "def distance(t,speed):\n",
    "    stop = 0\n",
    "    while 1:\n",
    "        stop +=1\n",
    "        res = stop_time(stop,speed)\n",
    "        if res > t:\n",
    "            stop = stop - 1\n",
    "            res = stop_time(stop,speed)\n",
    "            break\n",
    "    \n",
    "    ran = 100*stop+max(0,t-res-5)*speed\n",
    "    return ran"
   ]
  },
  {
   "cell_type": "code",
   "execution_count": 108,
   "metadata": {},
   "outputs": [
    {
     "name": "stdout",
     "output_type": "stream",
     "text": [
      "72.14286001169961\n"
     ]
    }
   ],
   "source": [
    "# simulation \n",
    "t = 0\n",
    "while distance(t,5) + 100 - distance(t,7) > 0.0000001:\n",
    "    t+= 0.00001\n",
    "print (t)"
   ]
  },
  {
   "cell_type": "code",
   "execution_count": 108,
   "metadata": {},
   "outputs": [],
   "source": [
    "section = 4\n",
    "total = 280\n",
    "percentile = 0.25"
   ]
  },
  {
   "cell_type": "code",
   "execution_count": 161,
   "metadata": {},
   "outputs": [],
   "source": [
    "def rank(section, total, percentile):\n",
    "    hengzhe = round(total*percentile)\n",
    "\n",
    "    student = [x for x in range(1,total+1)]\n",
    "\n",
    "    import random\n",
    "    random.shuffle(student)\n",
    "\n",
    "    size = total/section\n",
    "    groups = []\n",
    "    for i in range(section):\n",
    "        groups.append(student[int(i*size):int((i+1)*size)])\n",
    "\n",
    "    for i in groups:\n",
    "        g = sorted(i)\n",
    "        if hengzhe in g:\n",
    "            return g.index(hengzhe)/len(g)"
   ]
  },
  {
   "cell_type": "code",
   "execution_count": 162,
   "metadata": {},
   "outputs": [
    {
     "data": {
      "text/plain": [
       "1.6448536269514722"
      ]
     },
     "execution_count": 162,
     "metadata": {},
     "output_type": "execute_result"
    }
   ],
   "source": [
    "from scipy.stats import norm\n",
    "norm.ppf(0.95)"
   ]
  },
  {
   "cell_type": "code",
   "execution_count": 175,
   "metadata": {},
   "outputs": [
    {
     "name": "stdout",
     "output_type": "stream",
     "text": [
      "0.9241\n"
     ]
    },
    {
     "data": {
      "text/plain": [
       "<matplotlib.axes._subplots.AxesSubplot at 0x2b4a60d5488>"
      ]
     },
     "execution_count": 175,
     "metadata": {},
     "output_type": "execute_result"
    },
    {
     "data": {
      "image/png": "[encoded data removed]",
      "text/plain": [
       "<Figure size 432x288 with 1 Axes>"
      ]
     },
     "metadata": {
      "needs_background": "light"
     },
     "output_type": "display_data"
    }
   ],
   "source": [
    "res1 = [rank(4,260, 0.2) for x in range(10000)]\n",
    "mean,std = np.mean(res1),np.std(res1)\n",
    "print (len([x for x in res1 if x <=0.25])/len(res1))\n",
    "sns.distplot(res1)"
   ]
  },
  {
   "cell_type": "code",
   "execution_count": 176,
   "metadata": {},
   "outputs": [
    {
     "name": "stdout",
     "output_type": "stream",
     "text": [
      "0.19215137420718814 0.05450981158980856\n",
      "0.8505\n"
     ]
    },
    {
     "data": {
      "text/plain": [
       "<matplotlib.axes._subplots.AxesSubplot at 0x2b4a61d6408>"
      ]
     },
     "execution_count": 176,
     "metadata": {},
     "output_type": "execute_result"
    },
    {
     "data": {
      "image/png": "[encoded data removed]",
      "text/plain": [
       "<Figure size 432x288 with 1 Axes>"
      ]
     },
     "metadata": {
      "needs_background": "light"
     },
     "output_type": "display_data"
    }
   ],
   "source": [
    "res2 = [rank(6,260, 0.20) for x in range(10000)]\n",
    "mean,std = np.mean(res2),np.std(res2)\n",
    "print(mean, std)\n",
    "print (len([x for x in res2 if x <=0.25])/len(res2))\n",
    "sns.distplot(res2)"
   ]
  },
  {
   "cell_type": "code",
   "execution_count": 156,
   "metadata": {},
   "outputs": [
    {
     "name": "stdout",
     "output_type": "stream",
     "text": [
      "[0.23076923076923078, 0.24615384615384617, 0.27692307692307694, 0.24615384615384617, 0.3076923076923077, 0.27692307692307694, 0.26153846153846155, 0.3230769230769231, 0.24615384615384617, 0.26153846153846155, 0.23076923076923078, 0.23076923076923078, 0.18461538461538463, 0.3384615384615385, 0.26153846153846155, 0.27692307692307694, 0.13846153846153847, 0.3230769230769231, 0.24615384615384617, 0.27692307692307694]\n"
     ]
    }
   ],
   "source": [
    "print(res1[:20])"
   ]
  },
  {
   "cell_type": "code",
   "execution_count": 157,
   "metadata": {},
   "outputs": [
    {
     "name": "stdout",
     "output_type": "stream",
     "text": [
      "[0.23255813953488372, 0.2727272727272727, 0.27906976744186046, 0.1590909090909091, 0.22727272727272727, 0.23255813953488372, 0.25, 0.25, 0.23255813953488372, 0.3023255813953488, 0.29545454545454547, 0.3953488372093023, 0.3023255813953488, 0.27906976744186046, 0.23255813953488372, 0.2727272727272727, 0.2727272727272727, 0.13953488372093023, 0.23255813953488372, 0.2558139534883721]\n"
     ]
    }
   ],
   "source": [
    "print(res2[:20])"
   ]
  },
  {
   "cell_type": "code",
   "execution_count": null,
   "metadata": {},
   "outputs": [],
   "source": []
  }
 ],
 "metadata": {
  "kernelspec": {
   "display_name": "Python 3",
   "language": "python",
   "name": "python3"
  },
  "language_info": {
   "codemirror_mode": {
    "name": "ipython",
    "version": 3
   },
   "file_extension": ".py",
   "mimetype": "text/x-python",
   "name": "python",
   "nbconvert_exporter": "python",
   "pygments_lexer": "ipython3",
   "version": "3.7.4"
  }
 },
 "nbformat": 4,
 "nbformat_minor": 2
}
