{
 "cells": [
  {
   "cell_type": "code",
   "execution_count": 49,
   "metadata": {},
   "outputs": [],
   "source": [
    "import pandas as pd\n",
    "from sklearn.model_selection import train_test_split\n",
    "from sklearn.preprocessing import StandardScaler, MinMaxScaler\n",
    "import numpy as np\n",
    "from keras.models import Sequential\n",
    "from keras.layers import Dense\n",
    "import tensorflow as tf\n",
    "import matplotlib.pyplot as plt\n",
    "import time\n",
    "from sklearn.metrics import confusion_matrix"
   ]
  },
  {
   "cell_type": "code",
   "execution_count": 50,
   "metadata": {},
   "outputs": [],
   "source": [
    "def y_trans(y):\n",
    "    if y > 0.05:\n",
    "        return 1\n",
    "    elif y > 0.15:\n",
    "        return 2\n",
    "    else:\n",
    "        return 0\n",
    "    \n",
    "def cate(x):\n",
    "    if x > 0.5:\n",
    "        return 1\n",
    "    else:\n",
    "        return 0"
   ]
  },
  {
   "cell_type": "code",
   "execution_count": 51,
   "metadata": {},
   "outputs": [],
   "source": [
    "s = time.time()\n",
    "\n",
    "data = pd.read_csv('train_data.csv',index_col = 0)\n",
    "data = data.replace([np.inf, -np.inf], np.nan)\n",
    "data = data.dropna()\n",
    "\n",
    "data = data[(data.iloc[:,-1] < np.percentile(data.iloc[:,-1],99.96)) & (data.iloc[:,-1] < np.percentile(data.iloc[:,-1],99.96))]\n",
    "#data.iloc[:,-1] = data.iloc[:,-1].map(y_trans)\n",
    "\n",
    "x = data.iloc[:,:-1]\n",
    "y = data.iloc[:,-1].to_numpy().reshape(-1,1)"
   ]
  },
  {
   "cell_type": "code",
   "execution_count": 52,
   "metadata": {},
   "outputs": [],
   "source": [
    "x_scaler = MinMaxScaler().fit(x)\n",
    "x = x_scaler.transform(x)"
   ]
  },
  {
   "cell_type": "code",
   "execution_count": 53,
   "metadata": {},
   "outputs": [],
   "source": [
    "y_scaler = StandardScaler().fit(y)\n",
    "y = y_scaler.transform(y)"
   ]
  },
  {
   "cell_type": "code",
   "execution_count": 56,
   "metadata": {},
   "outputs": [
    {
     "data": {
      "text/plain": [
       "count    74739.000000\n",
       "mean         0.174446\n",
       "std          0.018523\n",
       "min          0.000000\n",
       "25%          0.168408\n",
       "50%          0.172654\n",
       "75%          0.178212\n",
       "max          1.000000\n",
       "dtype: float64"
      ]
     },
     "execution_count": 56,
     "metadata": {},
     "output_type": "execute_result"
    }
   ],
   "source": [
    "pd.Series([x[0] for x in y]).describe()"
   ]
  },
  {
   "cell_type": "code",
   "execution_count": 57,
   "metadata": {},
   "outputs": [],
   "source": [
    "X_train, X_test, y_train, y_test = train_test_split(x, y, test_size = 0.33)"
   ]
  },
  {
   "cell_type": "code",
   "execution_count": 67,
   "metadata": {
    "scrolled": true
   },
   "outputs": [
    {
     "name": "stdout",
     "output_type": "stream",
     "text": [
      "Train on 35052 samples, validate on 15023 samples\n",
      "Epoch 1/100\n",
      "35052/35052 [==============================] - 2s 69us/step - loss: 0.0247 - mean_absolute_error: 0.0355 - val_loss: 0.0151 - val_mean_absolute_error: 0.0231\n",
      "Epoch 2/100\n",
      "35052/35052 [==============================] - 2s 66us/step - loss: 0.0127 - mean_absolute_error: 0.0197 - val_loss: 0.0141 - val_mean_absolute_error: 0.0177\n",
      "Epoch 3/100\n",
      "35052/35052 [==============================] - 2s 66us/step - loss: 0.0109 - mean_absolute_error: 0.0165 - val_loss: 0.0122 - val_mean_absolute_error: 0.0156\n",
      "Epoch 4/100\n",
      "35052/35052 [==============================] - 2s 67us/step - loss: 0.0102 - mean_absolute_error: 0.0149 - val_loss: 0.0100 - val_mean_absolute_error: 0.0143\n",
      "Epoch 5/100\n",
      "35052/35052 [==============================] - 2s 66us/step - loss: 0.0098 - mean_absolute_error: 0.0138 - val_loss: 0.0090 - val_mean_absolute_error: 0.0133\n",
      "Epoch 6/100\n",
      "35052/35052 [==============================] - 2s 67us/step - loss: 0.0098 - mean_absolute_error: 0.0130 - val_loss: 0.0090 - val_mean_absolute_error: 0.0127\n",
      "Epoch 7/100\n",
      "35052/35052 [==============================] - 2s 67us/step - loss: 0.0096 - mean_absolute_error: 0.0124 - val_loss: 0.0092 - val_mean_absolute_error: 0.0122\n",
      "Epoch 8/100\n",
      "35052/35052 [==============================] - 2s 67us/step - loss: 0.0094 - mean_absolute_error: 0.0120 - val_loss: 0.0091 - val_mean_absolute_error: 0.0118\n",
      "Epoch 9/100\n",
      "35052/35052 [==============================] - 2s 67us/step - loss: 0.0094 - mean_absolute_error: 0.0117 - val_loss: 0.0095 - val_mean_absolute_error: 0.0116\n",
      "Epoch 10/100\n",
      "35052/35052 [==============================] - 2s 67us/step - loss: 0.0094 - mean_absolute_error: 0.0114 - val_loss: 0.0094 - val_mean_absolute_error: 0.0113\n",
      "Epoch 11/100\n",
      "35052/35052 [==============================] - 2s 66us/step - loss: 0.0094 - mean_absolute_error: 0.0112 - val_loss: 0.0088 - val_mean_absolute_error: 0.0112\n",
      "Epoch 12/100\n",
      "35052/35052 [==============================] - 2s 69us/step - loss: 0.0093 - mean_absolute_error: 0.0111 - val_loss: 0.0148 - val_mean_absolute_error: 0.0111\n",
      "Epoch 13/100\n",
      "35052/35052 [==============================] - 2s 66us/step - loss: 0.0093 - mean_absolute_error: 0.0111 - val_loss: 0.0089 - val_mean_absolute_error: 0.0110\n",
      "Epoch 14/100\n",
      "35052/35052 [==============================] - 2s 66us/step - loss: 0.0093 - mean_absolute_error: 0.0109 - val_loss: 0.0095 - val_mean_absolute_error: 0.0109\n",
      "Epoch 15/100\n",
      "35052/35052 [==============================] - 2s 66us/step - loss: 0.0092 - mean_absolute_error: 0.0108 - val_loss: 0.0092 - val_mean_absolute_error: 0.0107\n",
      "Epoch 16/100\n",
      "35052/35052 [==============================] - 2s 67us/step - loss: 0.0092 - mean_absolute_error: 0.0107 - val_loss: 0.0095 - val_mean_absolute_error: 0.0107\n",
      "Epoch 17/100\n",
      "35052/35052 [==============================] - 2s 67us/step - loss: 0.0092 - mean_absolute_error: 0.0106 - val_loss: 0.0088 - val_mean_absolute_error: 0.0106\n",
      "Epoch 18/100\n",
      "35052/35052 [==============================] - 2s 66us/step - loss: 0.0092 - mean_absolute_error: 0.0105 - val_loss: 0.0089 - val_mean_absolute_error: 0.0105\n",
      "Epoch 19/100\n",
      "35052/35052 [==============================] - 2s 66us/step - loss: 0.0092 - mean_absolute_error: 0.0104 - val_loss: 0.0115 - val_mean_absolute_error: 0.0104\n",
      "Epoch 20/100\n",
      "35052/35052 [==============================] - 2s 66us/step - loss: 0.0092 - mean_absolute_error: 0.0104 - val_loss: 0.0096 - val_mean_absolute_error: 0.0104\n",
      "Epoch 21/100\n",
      "35052/35052 [==============================] - 2s 65us/step - loss: 0.0092 - mean_absolute_error: 0.0104 - val_loss: 0.0088 - val_mean_absolute_error: 0.0103\n",
      "Epoch 22/100\n",
      "35052/35052 [==============================] - 2s 65us/step - loss: 0.0092 - mean_absolute_error: 0.0103 - val_loss: 0.0107 - val_mean_absolute_error: 0.0103\n",
      "Epoch 23/100\n",
      "35052/35052 [==============================] - 2s 66us/step - loss: 0.0091 - mean_absolute_error: 0.0103 - val_loss: 0.0095 - val_mean_absolute_error: 0.0102\n",
      "Epoch 24/100\n",
      "35052/35052 [==============================] - 2s 67us/step - loss: 0.0092 - mean_absolute_error: 0.0102 - val_loss: 0.0090 - val_mean_absolute_error: 0.0102\n",
      "Epoch 25/100\n",
      "35052/35052 [==============================] - 2s 67us/step - loss: 0.0091 - mean_absolute_error: 0.0102 - val_loss: 0.0088 - val_mean_absolute_error: 0.0102\n",
      "Epoch 26/100\n",
      "35052/35052 [==============================] - 2s 68us/step - loss: 0.0091 - mean_absolute_error: 0.0101 - val_loss: 0.0116 - val_mean_absolute_error: 0.0101\n",
      "Epoch 27/100\n",
      "35052/35052 [==============================] - 2s 68us/step - loss: 0.0091 - mean_absolute_error: 0.0101 - val_loss: 0.0096 - val_mean_absolute_error: 0.0101\n"
     ]
    },
    {
     "data": {
      "text/plain": [
       "<keras.callbacks.callbacks.History at 0x2bc4f963390>"
      ]
     },
     "execution_count": 67,
     "metadata": {},
     "output_type": "execute_result"
    }
   ],
   "source": [
    "my_callback = [tf.keras.callbacks.EarlyStopping(patience = 10),]\n",
    "\n",
    "model = Sequential()\n",
    "model.add(Dense(X_train.shape[1], activation = 'relu',input_shape = [X_train.shape[1],]))\n",
    "model.add(Dense(2048, activation='relu'))\n",
    "model.add(Dense(512,activation = 'relu'))\n",
    "model.add(Dense(1))\n",
    "model.compile(loss = 'mae',optimizer = 'sgd',\n",
    "              metrics=[tf.keras.metrics.MeanAbsoluteError()])\n",
    "\n",
    "model.fit(X_train, y_train,validation_split=0.3 ,epochs=100,\n",
    "          callbacks = my_callback,\n",
    "          batch_size = 32, use_multiprocessing = True)"
   ]
  },
  {
   "cell_type": "code",
   "execution_count": 68,
   "metadata": {},
   "outputs": [
    {
     "data": {
      "image/png": "[encoded data removed]",
      "text/plain": [
       "<Figure size 432x288 with 1 Axes>"
      ]
     },
     "metadata": {
      "needs_background": "light"
     },
     "output_type": "display_data"
    }
   ],
   "source": [
    "y_train_pred = model.predict(X_train)\n",
    "Y_pred = model.predict(X_test)\n",
    "\n",
    "#plt.scatter(y_scaler.inverse_transform(y_train),y_scaler.inverse_transform(y_train_pred),c = 'green')\n",
    "#plt.scatter(y_scaler.inverse_transform(y_test),y_scaler.inverse_transform(Y_pred),c = 'blue')\n",
    "#plt.plot(y_scaler.inverse_transform(y_test),y_scaler.inverse_transform(y_test),color = 'r')\n",
    "plt.scatter(y_test, Y_pred,c = 'red')\n",
    "plt.scatter(y_train, y_train_pred, c = 'green')\n",
    "plt.show()"
   ]
  },
  {
   "cell_type": "code",
   "execution_count": null,
   "metadata": {},
   "outputs": [],
   "source": []
  },
  {
   "cell_type": "code",
   "execution_count": null,
   "metadata": {},
   "outputs": [],
   "source": []
  }
 ],
 "metadata": {
  "kernelspec": {
   "display_name": "Python 3",
   "language": "python",
   "name": "python3"
  },
  "language_info": {
   "codemirror_mode": {
    "name": "ipython",
    "version": 3
   },
   "file_extension": ".py",
   "mimetype": "text/x-python",
   "name": "python",
   "nbconvert_exporter": "python",
   "pygments_lexer": "ipython3",
   "version": "3.6.10"
  }
 },
 "nbformat": 4,
 "nbformat_minor": 4
}
