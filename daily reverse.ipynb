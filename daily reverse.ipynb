{
 "cells": [
  {
   "cell_type": "code",
   "execution_count": 1,
   "metadata": {},
   "outputs": [],
   "source": [
    "import pandas as pd\n",
    "import numpy as np\n",
    "import os"
   ]
  },
  {
   "cell_type": "code",
   "execution_count": 2,
   "metadata": {},
   "outputs": [],
   "source": [
    "file_path = 'D:/projects/stock/EOD_data/'"
   ]
  },
  {
   "cell_type": "code",
   "execution_count": 40,
   "metadata": {},
   "outputs": [],
   "source": [
    "df = pd.read_csv(file_path+'SPY.csv',index_col = 0,parse_dates = True)['2020']"
   ]
  },
  {
   "cell_type": "code",
   "execution_count": 41,
   "metadata": {},
   "outputs": [],
   "source": [
    "df['down_size'] = df['high']/df['close'] - 1\n",
    "df['open_jump'] = df.shift(1)['open']/df['close'] - 1\n",
    "df['ret_1d'] = df.shift(1)['close']/df['close'] - 1"
   ]
  },
  {
   "cell_type": "code",
   "execution_count": 42,
   "metadata": {},
   "outputs": [
    {
     "name": "stdout",
     "output_type": "stream",
     "text": [
      "finished 100\n",
      "finished 200\n",
      "finished 300\n",
      "finished 400\n",
      "finished 500\n",
      "finished 600\n",
      "finished 700\n",
      "finished 800\n",
      "finished 900\n",
      "finished 1000\n",
      "finished 1100\n",
      "finished 1200\n",
      "finished 1300\n",
      "finished 1400\n",
      "finished 1500\n",
      "finished 1600\n",
      "finished 1700\n",
      "finished 1800\n",
      "finished 1900\n",
      "finished 2000\n",
      "finished 2100\n",
      "finished 2200\n",
      "finished 2300\n",
      "finished 2400\n",
      "finished 2500\n",
      "finished 2600\n"
     ]
    }
   ],
   "source": [
    "p_dic = {}\n",
    "c = 0\n",
    "for i in os.listdir(file_path):\n",
    "    try:\n",
    "        df = pd.read_csv(file_path+i,index_col = 0,parse_dates = True).loc['2020']\n",
    "        df['down_size'] = df['close']/df['high'] - 1\n",
    "        df['open_jump'] = df.shift(1)['open']/df['close'] - 1\n",
    "        df['ret_1d'] = df.shift(1)['close']/df['close'] - 1\n",
    "        p_dic[i] = df\n",
    "        c+=1\n",
    "        if c%100 == 0:\n",
    "            print ('finished %s'%c)\n",
    "    except:\n",
    "        continue"
   ]
  },
  {
   "cell_type": "code",
   "execution_count": 46,
   "metadata": {},
   "outputs": [],
   "source": [
    "p_dic = {k.split('.')[0]:v for k,v in p_dic.items()}"
   ]
  },
  {
   "cell_type": "code",
   "execution_count": 47,
   "metadata": {},
   "outputs": [],
   "source": [
    "df = pd.DataFrame(index = p_dic['AAPL'].index)"
   ]
  },
  {
   "cell_type": "code",
   "execution_count": 48,
   "metadata": {},
   "outputs": [],
   "source": [
    "def find_worst(date):\n",
    "    l = []\n",
    "    for k,v in p_dic.items():\n",
    "        try:\n",
    "            l.append((k,v.loc[date]['down_size'].iloc[0], v.loc[date]['open_jump'].iloc[0],v.loc[date]['ret_1d'].iloc[0]))\n",
    "        except:\n",
    "            continue\n",
    "    l = sorted(l, key = lambda x: x[1], reverse = False)\n",
    "    return l[0]"
   ]
  },
  {
   "cell_type": "code",
   "execution_count": 55,
   "metadata": {},
   "outputs": [],
   "source": [
    "ticker ,down,jump,ret = [],[],[],[]\n",
    "for date in df.index:\n",
    "    res = find_worst(str(date))\n",
    "    ticker.append(res[0])\n",
    "    down.append(res[1])\n",
    "    jump.append(res[2])\n",
    "    ret.append(res[3])"
   ]
  },
  {
   "cell_type": "code",
   "execution_count": 56,
   "metadata": {},
   "outputs": [],
   "source": [
    "df['ticker'] = ticker\n",
    "df['down_size'] = down\n",
    "df['open_jump'] = jump\n",
    "df['ret_1d'] = ret"
   ]
  },
  {
   "cell_type": "code",
   "execution_count": 58,
   "metadata": {
    "scrolled": false
   },
   "outputs": [],
   "source": [
    "df.to_clipboard()"
   ]
  },
  {
   "cell_type": "code",
   "execution_count": null,
   "metadata": {},
   "outputs": [],
   "source": []
  },
  {
   "cell_type": "code",
   "execution_count": null,
   "metadata": {},
   "outputs": [],
   "source": []
  }
 ],
 "metadata": {
  "kernelspec": {
   "display_name": "Python 3",
   "language": "python",
   "name": "python3"
  },
  "language_info": {
   "codemirror_mode": {
    "name": "ipython",
    "version": 3
   },
   "file_extension": ".py",
   "mimetype": "text/x-python",
   "name": "python",
   "nbconvert_exporter": "python",
   "pygments_lexer": "ipython3",
   "version": "3.7.4"
  }
 },
 "nbformat": 4,
 "nbformat_minor": 2
}
