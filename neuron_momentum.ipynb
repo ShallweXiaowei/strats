{
 "cells": [
  {
   "cell_type": "code",
   "execution_count": 49,
   "metadata": {},
   "outputs": [],
   "source": [
    "import pandas as pd\n",
    "from sklearn.model_selection import train_test_split\n",
    "from sklearn.preprocessing import StandardScaler, MinMaxScaler\n",
    "import numpy as np\n",
    "from keras.models import Sequential\n",
    "from keras.layers import Dense\n",
    "import tensorflow as tf\n",
    "import matplotlib.pyplot as plt\n",
    "import time\n",
    "from sklearn.metrics import confusion_matrix"
   ]
  },
  {
   "cell_type": "code",
   "execution_count": 50,
   "metadata": {},
   "outputs": [],
   "source": [
    "def y_trans(y):\n",
    "    if y > 0.05:\n",
    "        return 1\n",
    "    elif y > 0.15:\n",
    "        return 2\n",
    "    else:\n",
    "        return 0\n",
    "    \n",
    "def cate(x):\n",
    "    if x > 0.5:\n",
    "        return 1\n",
    "    else:\n",
    "        return 0"
   ]
  },
  {
   "cell_type": "code",
   "execution_count": 69,
   "metadata": {},
   "outputs": [],
   "source": [
    "s = time.time()\n",
    "\n",
    "data = pd.read_csv('train_data.csv',index_col = 0)\n",
    "data = data.replace([np.inf, -np.inf], np.nan)\n",
    "data = data.dropna()\n",
    "\n",
    "data = data[(data.iloc[:,-1] < np.percentile(data.iloc[:,-1],99.96)) & (data.iloc[:,-1] < np.percentile(data.iloc[:,-1],99.96))]\n",
    "#data.iloc[:,-1] = data.iloc[:,-1].map(y_trans)\n",
    "\n",
    "x = data.iloc[:,:-1]\n",
    "y = data.iloc[:,-1].to_numpy().reshape(-1,1)"
   ]
  },
  {
   "cell_type": "code",
   "execution_count": 70,
   "metadata": {},
   "outputs": [],
   "source": [
    "x_scaler = MinMaxScaler().fit(x)\n",
    "x = x_scaler.transform(x)"
   ]
  },
  {
   "cell_type": "code",
   "execution_count": 71,
   "metadata": {},
   "outputs": [],
   "source": [
    "y_scaler = StandardScaler().fit(y)\n",
    "y = y_scaler.transform(y)"
   ]
  },
  {
   "cell_type": "code",
   "execution_count": 72,
   "metadata": {},
   "outputs": [
    {
     "data": {
      "text/plain": [
       "count    7.473900e+04\n",
       "mean    -3.365474e-17\n",
       "std      1.000007e+00\n",
       "min     -9.417703e+00\n",
       "25%     -3.259593e-01\n",
       "50%     -9.674484e-02\n",
       "75%      2.033024e-01\n",
       "max      4.456869e+01\n",
       "dtype: float64"
      ]
     },
     "execution_count": 72,
     "metadata": {},
     "output_type": "execute_result"
    }
   ],
   "source": [
    "pd.Series([x[0] for x in y]).describe()"
   ]
  },
  {
   "cell_type": "code",
   "execution_count": 73,
   "metadata": {},
   "outputs": [],
   "source": [
    "X_train, X_test, y_train, y_test = train_test_split(x, y, test_size = 0.33)"
   ]
  },
  {
   "cell_type": "code",
   "execution_count": null,
   "metadata": {
    "scrolled": true
   },
   "outputs": [
    {
     "name": "stdout",
     "output_type": "stream",
     "text": [
      "Train on 35052 samples, validate on 15023 samples\n",
      "Epoch 1/100\n",
      "35052/35052 [==============================] - 2s 59us/step - loss: 0.4830 - mean_absolute_error: 0.4802 - val_loss: 0.4879 - val_mean_absolute_error: 0.4828\n",
      "Epoch 2/100\n",
      "35052/35052 [==============================] - 2s 56us/step - loss: 0.4796 - mean_absolute_error: 0.4844 - val_loss: 0.4918 - val_mean_absolute_error: 0.4827\n",
      "Epoch 3/100\n",
      "35052/35052 [==============================] - 2s 56us/step - loss: 0.4775 - mean_absolute_error: 0.4834 - val_loss: 0.4856 - val_mean_absolute_error: 0.4821\n",
      "Epoch 4/100\n",
      "35052/35052 [==============================] - 2s 56us/step - loss: 0.4764 - mean_absolute_error: 0.4819 - val_loss: 0.4856 - val_mean_absolute_error: 0.4813\n",
      "Epoch 5/100\n",
      "35052/35052 [==============================] - 2s 56us/step - loss: 0.4756 - mean_absolute_error: 0.4814 - val_loss: 0.4867 - val_mean_absolute_error: 0.4808\n",
      "Epoch 6/100\n",
      "35052/35052 [==============================] - 2s 56us/step - loss: 0.4752 - mean_absolute_error: 0.4804 - val_loss: 0.4816 - val_mean_absolute_error: 0.4803\n",
      "Epoch 7/100\n",
      "35052/35052 [==============================] - 2s 57us/step - loss: 0.4747 - mean_absolute_error: 0.4803 - val_loss: 0.4818 - val_mean_absolute_error: 0.4798\n",
      "Epoch 8/100\n",
      "35052/35052 [==============================] - 2s 58us/step - loss: 0.4744 - mean_absolute_error: 0.4798 - val_loss: 0.4907 - val_mean_absolute_error: 0.4796\n",
      "Epoch 9/100\n",
      "35052/35052 [==============================] - 2s 59us/step - loss: 0.4740 - mean_absolute_error: 0.4795 - val_loss: 0.4897 - val_mean_absolute_error: 0.4795\n",
      "Epoch 10/100\n",
      "35052/35052 [==============================] - 2s 58us/step - loss: 0.4738 - mean_absolute_error: 0.4795 - val_loss: 0.4870 - val_mean_absolute_error: 0.4794\n",
      "Epoch 11/100\n",
      "35052/35052 [==============================] - 2s 58us/step - loss: 0.4735 - mean_absolute_error: 0.4794 - val_loss: 0.4803 - val_mean_absolute_error: 0.4791\n",
      "Epoch 12/100\n",
      "35052/35052 [==============================] - 2s 56us/step - loss: 0.4734 - mean_absolute_error: 0.4789 - val_loss: 0.4797 - val_mean_absolute_error: 0.4788\n",
      "Epoch 13/100\n",
      "35052/35052 [==============================] - 2s 56us/step - loss: 0.4731 - mean_absolute_error: 0.4786 - val_loss: 0.4830 - val_mean_absolute_error: 0.4785\n",
      "Epoch 14/100\n",
      "35052/35052 [==============================] - 2s 56us/step - loss: 0.4728 - mean_absolute_error: 0.4785 - val_loss: 0.4793 - val_mean_absolute_error: 0.4783\n",
      "Epoch 15/100\n",
      "35052/35052 [==============================] - 2s 56us/step - loss: 0.4726 - mean_absolute_error: 0.4783 - val_loss: 0.4790 - val_mean_absolute_error: 0.4780\n",
      "Epoch 16/100\n",
      "35052/35052 [==============================] - 2s 56us/step - loss: 0.4725 - mean_absolute_error: 0.4780 - val_loss: 0.4788 - val_mean_absolute_error: 0.4778\n",
      "Epoch 17/100\n",
      "35052/35052 [==============================] - 2s 56us/step - loss: 0.4722 - mean_absolute_error: 0.4779 - val_loss: 0.4788 - val_mean_absolute_error: 0.4776\n",
      "Epoch 18/100\n",
      "35052/35052 [==============================] - 2s 57us/step - loss: 0.4716 - mean_absolute_error: 0.4775 - val_loss: 0.4850 - val_mean_absolute_error: 0.4774\n",
      "Epoch 19/100\n",
      "35052/35052 [==============================] - 2s 56us/step - loss: 0.4717 - mean_absolute_error: 0.4775 - val_loss: 0.4816 - val_mean_absolute_error: 0.4773\n",
      "Epoch 20/100\n",
      "35052/35052 [==============================] - 2s 56us/step - loss: 0.4715 - mean_absolute_error: 0.4773 - val_loss: 0.4817 - val_mean_absolute_error: 0.4772\n",
      "Epoch 21/100\n",
      "35052/35052 [==============================] - 2s 56us/step - loss: 0.4714 - mean_absolute_error: 0.4772 - val_loss: 0.4779 - val_mean_absolute_error: 0.4770\n",
      "Epoch 22/100\n",
      "35052/35052 [==============================] - 2s 56us/step - loss: 0.4711 - mean_absolute_error: 0.4770 - val_loss: 0.4790 - val_mean_absolute_error: 0.4769\n",
      "Epoch 23/100\n",
      "35052/35052 [==============================] - 2s 56us/step - loss: 0.4709 - mean_absolute_error: 0.4768 - val_loss: 0.4778 - val_mean_absolute_error: 0.4767\n",
      "Epoch 24/100\n",
      "35052/35052 [==============================] - 2s 56us/step - loss: 0.4706 - mean_absolute_error: 0.4767 - val_loss: 0.4818 - val_mean_absolute_error: 0.4766\n",
      "Epoch 25/100\n",
      "35052/35052 [==============================] - 2s 56us/step - loss: 0.4706 - mean_absolute_error: 0.4765 - val_loss: 0.4787 - val_mean_absolute_error: 0.4764\n",
      "Epoch 26/100\n",
      "35052/35052 [==============================] - 2s 55us/step - loss: 0.4703 - mean_absolute_error: 0.4765 - val_loss: 0.4783 - val_mean_absolute_error: 0.4763\n",
      "Epoch 27/100\n",
      "35052/35052 [==============================] - 2s 55us/step - loss: 0.4706 - mean_absolute_error: 0.4762 - val_loss: 0.4803 - val_mean_absolute_error: 0.4762\n",
      "Epoch 28/100\n",
      "35052/35052 [==============================] - 2s 56us/step - loss: 0.4702 - mean_absolute_error: 0.4761 - val_loss: 0.4772 - val_mean_absolute_error: 0.4761\n",
      "Epoch 29/100\n",
      "35052/35052 [==============================] - 2s 57us/step - loss: 0.4700 - mean_absolute_error: 0.4761 - val_loss: 0.4770 - val_mean_absolute_error: 0.4759\n",
      "Epoch 30/100\n",
      "35052/35052 [==============================] - 2s 58us/step - loss: 0.4698 - mean_absolute_error: 0.4759 - val_loss: 0.4801 - val_mean_absolute_error: 0.4758\n",
      "Epoch 31/100\n",
      "35052/35052 [==============================] - 2s 58us/step - loss: 0.4697 - mean_absolute_error: 0.4758 - val_loss: 0.4795 - val_mean_absolute_error: 0.4757\n",
      "Epoch 32/100\n",
      "35052/35052 [==============================] - 2s 58us/step - loss: 0.4698 - mean_absolute_error: 0.4757 - val_loss: 0.4833 - val_mean_absolute_error: 0.4756\n",
      "Epoch 33/100\n",
      "35052/35052 [==============================] - 2s 58us/step - loss: 0.4694 - mean_absolute_error: 0.4757 - val_loss: 0.4810 - val_mean_absolute_error: 0.4756\n",
      "Epoch 34/100\n",
      "35052/35052 [==============================] - 2s 57us/step - loss: 0.4693 - mean_absolute_error: 0.4755 - val_loss: 0.4781 - val_mean_absolute_error: 0.4755\n",
      "Epoch 35/100\n",
      "35052/35052 [==============================] - 2s 58us/step - loss: 0.4692 - mean_absolute_error: 0.4754 - val_loss: 0.4790 - val_mean_absolute_error: 0.4754\n",
      "Epoch 36/100\n",
      "35052/35052 [==============================] - 2s 57us/step - loss: 0.4693 - mean_absolute_error: 0.4753 - val_loss: 0.4804 - val_mean_absolute_error: 0.4753\n",
      "Epoch 37/100\n",
      "35052/35052 [==============================] - 2s 58us/step - loss: 0.4692 - mean_absolute_error: 0.4753 - val_loss: 0.4766 - val_mean_absolute_error: 0.4752\n",
      "Epoch 38/100\n",
      "35052/35052 [==============================] - 2s 57us/step - loss: 0.4688 - mean_absolute_error: 0.4752 - val_loss: 0.4804 - val_mean_absolute_error: 0.4751\n",
      "Epoch 39/100\n",
      "35052/35052 [==============================] - 2s 57us/step - loss: 0.4688 - mean_absolute_error: 0.4751 - val_loss: 0.4769 - val_mean_absolute_error: 0.4750\n",
      "Epoch 40/100\n",
      "35052/35052 [==============================] - 2s 57us/step - loss: 0.4687 - mean_absolute_error: 0.4749 - val_loss: 0.4760 - val_mean_absolute_error: 0.4749\n",
      "Epoch 41/100\n",
      "35052/35052 [==============================] - 2s 58us/step - loss: 0.4685 - mean_absolute_error: 0.4748 - val_loss: 0.4793 - val_mean_absolute_error: 0.4748\n",
      "Epoch 42/100\n",
      "35052/35052 [==============================] - 2s 57us/step - loss: 0.4684 - mean_absolute_error: 0.4748 - val_loss: 0.4789 - val_mean_absolute_error: 0.4747\n",
      "Epoch 43/100\n",
      "35052/35052 [==============================] - 2s 57us/step - loss: 0.4684 - mean_absolute_error: 0.4747 - val_loss: 0.4794 - val_mean_absolute_error: 0.4747\n",
      "Epoch 44/100\n",
      "35052/35052 [==============================] - 2s 56us/step - loss: 0.4683 - mean_absolute_error: 0.4747 - val_loss: 0.4775 - val_mean_absolute_error: 0.4746\n",
      "Epoch 45/100\n",
      "35052/35052 [==============================] - 2s 56us/step - loss: 0.4680 - mean_absolute_error: 0.4746 - val_loss: 0.4767 - val_mean_absolute_error: 0.4745\n",
      "Epoch 46/100\n",
      "35052/35052 [==============================] - 2s 56us/step - loss: 0.4681 - mean_absolute_error: 0.4745 - val_loss: 0.4760 - val_mean_absolute_error: 0.4744\n",
      "Epoch 47/100\n",
      "35052/35052 [==============================] - 2s 56us/step - loss: 0.4681 - mean_absolute_error: 0.4744 - val_loss: 0.4788 - val_mean_absolute_error: 0.4744\n",
      "Epoch 48/100\n",
      "35052/35052 [==============================] - 2s 55us/step - loss: 0.4681 - mean_absolute_error: 0.4743 - val_loss: 0.4779 - val_mean_absolute_error: 0.4743\n"
     ]
    },
    {
     "name": "stdout",
     "output_type": "stream",
     "text": [
      "Epoch 49/100\n",
      "35052/35052 [==============================] - 2s 55us/step - loss: 0.4680 - mean_absolute_error: 0.4743 - val_loss: 0.4764 - val_mean_absolute_error: 0.4742\n",
      "Epoch 50/100\n",
      "35052/35052 [==============================] - 2s 55us/step - loss: 0.4678 - mean_absolute_error: 0.4742 - val_loss: 0.4873 - val_mean_absolute_error: 0.4742\n",
      "Epoch 51/100\n",
      "35052/35052 [==============================] - 2s 56us/step - loss: 0.4678 - mean_absolute_error: 0.4742 - val_loss: 0.4891 - val_mean_absolute_error: 0.4742\n",
      "Epoch 52/100\n",
      "35052/35052 [==============================] - 2s 56us/step - loss: 0.4676 - mean_absolute_error: 0.4742 - val_loss: 0.4836 - val_mean_absolute_error: 0.4741\n",
      "Epoch 53/100\n",
      "35052/35052 [==============================] - 2s 56us/step - loss: 0.4675 - mean_absolute_error: 0.4741 - val_loss: 0.4756 - val_mean_absolute_error: 0.4741\n",
      "Epoch 54/100\n",
      "35052/35052 [==============================] - 2s 56us/step - loss: 0.4675 - mean_absolute_error: 0.4741 - val_loss: 0.4754 - val_mean_absolute_error: 0.4740\n",
      "Epoch 55/100\n",
      "35052/35052 [==============================] - 2s 55us/step - loss: 0.4674 - mean_absolute_error: 0.4740 - val_loss: 0.4768 - val_mean_absolute_error: 0.4739\n",
      "Epoch 56/100\n",
      "35052/35052 [==============================] - 2s 55us/step - loss: 0.4673 - mean_absolute_error: 0.4739 - val_loss: 0.4760 - val_mean_absolute_error: 0.4739\n",
      "Epoch 57/100\n",
      "35052/35052 [==============================] - 2s 55us/step - loss: 0.4674 - mean_absolute_error: 0.4738 - val_loss: 0.4788 - val_mean_absolute_error: 0.4738\n",
      "Epoch 58/100\n",
      "35052/35052 [==============================] - 2s 56us/step - loss: 0.4671 - mean_absolute_error: 0.4738 - val_loss: 0.4784 - val_mean_absolute_error: 0.4738\n",
      "Epoch 59/100\n",
      "35052/35052 [==============================] - 2s 57us/step - loss: 0.4670 - mean_absolute_error: 0.4737 - val_loss: 0.4855 - val_mean_absolute_error: 0.4737\n",
      "Epoch 60/100\n",
      "35052/35052 [==============================] - 2s 57us/step - loss: 0.4672 - mean_absolute_error: 0.4737 - val_loss: 0.4757 - val_mean_absolute_error: 0.4737\n",
      "Epoch 61/100\n",
      "35052/35052 [==============================] - 2s 57us/step - loss: 0.4670 - mean_absolute_error: 0.4737 - val_loss: 0.4756 - val_mean_absolute_error: 0.4736\n",
      "Epoch 62/100\n",
      "35052/35052 [==============================] - 2s 57us/step - loss: 0.4670 - mean_absolute_error: 0.4736 - val_loss: 0.4846 - val_mean_absolute_error: 0.4736\n",
      "Epoch 63/100\n",
      "35052/35052 [==============================] - 2s 57us/step - loss: 0.4672 - mean_absolute_error: 0.4735 - val_loss: 0.4750 - val_mean_absolute_error: 0.4735\n",
      "Epoch 64/100\n",
      "35052/35052 [==============================] - 2s 57us/step - loss: 0.4669 - mean_absolute_error: 0.4735 - val_loss: 0.4757 - val_mean_absolute_error: 0.4735\n",
      "Epoch 65/100\n",
      "35052/35052 [==============================] - 2s 57us/step - loss: 0.4669 - mean_absolute_error: 0.4734 - val_loss: 0.4761 - val_mean_absolute_error: 0.4734\n",
      "Epoch 66/100\n",
      "35052/35052 [==============================] - 2s 56us/step - loss: 0.4667 - mean_absolute_error: 0.4734 - val_loss: 0.4786 - val_mean_absolute_error: 0.4733\n",
      "Epoch 67/100\n",
      "34144/35052 [============================>.] - ETA: 0s - loss: 0.4673 - mean_absolute_error: 0.4733"
     ]
    }
   ],
   "source": [
    "my_callback = [tf.keras.callbacks.EarlyStopping(patience = 10),]\n",
    "\n",
    "model = Sequential()\n",
    "model.add(Dense(X_train.shape[1], activation = 'relu',input_shape = [X_train.shape[1],]))\n",
    "model.add(Dense(512,activation = 'relu'))\n",
    "model.add(Dense(1))\n",
    "model.compile(loss = 'mae',optimizer = 'sgd',\n",
    "              metrics=[tf.keras.metrics.MeanAbsoluteError()])\n",
    "\n",
    "model.fit(X_train, y_train,validation_split=0.3 ,epochs=100,\n",
    "          callbacks = my_callback,\n",
    "          batch_size = 32, use_multiprocessing = True)"
   ]
  },
  {
   "cell_type": "code",
   "execution_count": null,
   "metadata": {},
   "outputs": [],
   "source": [
    "y_train_pred = model.predict(X_train)\n",
    "Y_pred = model.predict(X_test)\n",
    "\n",
    "#plt.scatter(y_scaler.inverse_transform(y_train),y_scaler.inverse_transform(y_train_pred),c = 'green')\n",
    "#plt.scatter(y_scaler.inverse_transform(y_test),y_scaler.inverse_transform(Y_pred),c = 'blue')\n",
    "#plt.plot(y_scaler.inverse_transform(y_test),y_scaler.inverse_transform(y_test),color = 'r')\n",
    "plt.scatter(y_test, Y_pred,c = 'red')\n",
    "plt.scatter(y_train, y_train_pred, c = 'green')\n",
    "plt.show()"
   ]
  },
  {
   "cell_type": "code",
   "execution_count": null,
   "metadata": {},
   "outputs": [],
   "source": [
    "pd.Series([x[0] for x in Y_pred]).describe()"
   ]
  },
  {
   "cell_type": "code",
   "execution_count": null,
   "metadata": {},
   "outputs": [],
   "source": [
    "model.summary()"
   ]
  },
  {
   "cell_type": "code",
   "execution_count": null,
   "metadata": {},
   "outputs": [],
   "source": []
  }
 ],
 "metadata": {
  "kernelspec": {
   "display_name": "Python 3",
   "language": "python",
   "name": "python3"
  },
  "language_info": {
   "codemirror_mode": {
    "name": "ipython",
    "version": 3
   },
   "file_extension": ".py",
   "mimetype": "text/x-python",
   "name": "python",
   "nbconvert_exporter": "python",
   "pygments_lexer": "ipython3",
   "version": "3.6.10"
  }
 },
 "nbformat": 4,
 "nbformat_minor": 4
}
