{
 "cells": [
  {
   "cell_type": "code",
   "execution_count": 1,
   "metadata": {},
   "outputs": [],
   "source": [
    "import pandas as pd\n",
    "import numpy as np\n",
    "from build_model import concat_earning"
   ]
  },
  {
   "cell_type": "code",
   "execution_count": 2,
   "metadata": {},
   "outputs": [],
   "source": [
    "file_path = 'D:/projects/stock/intra_day/'"
   ]
  },
  {
   "cell_type": "code",
   "execution_count": 3,
   "metadata": {},
   "outputs": [],
   "source": [
    "earning = concat_earning(-1)"
   ]
  },
  {
   "cell_type": "code",
   "execution_count": 4,
   "metadata": {},
   "outputs": [],
   "source": [
    "earning.to_csv('earning.csv')"
   ]
  },
  {
   "cell_type": "code",
   "execution_count": 5,
   "metadata": {},
   "outputs": [],
   "source": [
    "df = pd.read_csv(file_path+'CCL.csv',index_col = 0,parse_dates = True).sort_index()\n",
    "spy = pd.read_csv(file_path+'SPY.csv',index_col = 0,parse_dates = True).sort_index()"
   ]
  },
  {
   "cell_type": "code",
   "execution_count": 6,
   "metadata": {},
   "outputs": [],
   "source": [
    "data = df.loc['2020-06-17':'2020-06-19']['close']"
   ]
  },
  {
   "cell_type": "code",
   "execution_count": null,
   "metadata": {},
   "outputs": [],
   "source": []
  },
  {
   "cell_type": "code",
   "execution_count": 10,
   "metadata": {},
   "outputs": [],
   "source": [
    "res = pd.merge(df,spy,left_index=True,right_index = True)"
   ]
  },
  {
   "cell_type": "code",
   "execution_count": 11,
   "metadata": {},
   "outputs": [
    {
     "name": "stdout",
     "output_type": "stream",
     "text": [
      "2020-06-08 0.6483\n",
      "2020-06-09 0.6487\n",
      "2020-06-10 0.7744\n",
      "2020-06-11 0.8431\n",
      "2020-06-12 0.6027\n",
      "2020-06-15 0.9005\n",
      "2020-06-16 0.7703\n",
      "2020-06-17 0.7107\n",
      "2020-06-18 0.5463\n",
      "2020-06-19 0.8598\n",
      "2020-06-22 0.0689\n",
      "2020-06-23 -0.2288\n"
     ]
    }
   ],
   "source": [
    "dates = sorted(list(set([x.date() for x in res.index])))\n",
    "for i in dates:\n",
    "    sec = res.loc[str(i)]\n",
    "    print(i,round(sec[['close_x','close_y']].corr().iloc[0].iloc[1],4))"
   ]
  },
  {
   "cell_type": "code",
   "execution_count": 13,
   "metadata": {},
   "outputs": [
    {
     "data": {
      "text/html": [
       "<div>\n",
       "<style scoped>\n",
       "    .dataframe tbody tr th:only-of-type {\n",
       "        vertical-align: middle;\n",
       "    }\n",
       "\n",
       "    .dataframe tbody tr th {\n",
       "        vertical-align: top;\n",
       "    }\n",
       "\n",
       "    .dataframe thead th {\n",
       "        text-align: right;\n",
       "    }\n",
       "</style>\n",
       "<table border=\"1\" class=\"dataframe\">\n",
       "  <thead>\n",
       "    <tr style=\"text-align: right;\">\n",
       "      <th></th>\n",
       "      <th>open</th>\n",
       "      <th>high</th>\n",
       "      <th>low</th>\n",
       "      <th>close</th>\n",
       "      <th>volume</th>\n",
       "    </tr>\n",
       "    <tr>\n",
       "      <th>timestamp</th>\n",
       "      <th></th>\n",
       "      <th></th>\n",
       "      <th></th>\n",
       "      <th></th>\n",
       "      <th></th>\n",
       "    </tr>\n",
       "  </thead>\n",
       "  <tbody>\n",
       "    <tr>\n",
       "      <td>2020-06-08 09:35:00</td>\n",
       "      <td>24.5740</td>\n",
       "      <td>24.73</td>\n",
       "      <td>23.6069</td>\n",
       "      <td>23.8539</td>\n",
       "      <td>10876318</td>\n",
       "    </tr>\n",
       "    <tr>\n",
       "      <td>2020-06-08 09:40:00</td>\n",
       "      <td>23.8563</td>\n",
       "      <td>24.01</td>\n",
       "      <td>23.5100</td>\n",
       "      <td>23.8963</td>\n",
       "      <td>3177722</td>\n",
       "    </tr>\n",
       "    <tr>\n",
       "      <td>2020-06-08 09:45:00</td>\n",
       "      <td>23.9000</td>\n",
       "      <td>24.20</td>\n",
       "      <td>23.7900</td>\n",
       "      <td>24.0000</td>\n",
       "      <td>2814506</td>\n",
       "    </tr>\n",
       "    <tr>\n",
       "      <td>2020-06-08 09:50:00</td>\n",
       "      <td>24.0000</td>\n",
       "      <td>24.46</td>\n",
       "      <td>23.9600</td>\n",
       "      <td>24.3816</td>\n",
       "      <td>2085627</td>\n",
       "    </tr>\n",
       "    <tr>\n",
       "      <td>2020-06-08 09:55:00</td>\n",
       "      <td>24.4052</td>\n",
       "      <td>24.77</td>\n",
       "      <td>24.1600</td>\n",
       "      <td>24.7503</td>\n",
       "      <td>2872558</td>\n",
       "    </tr>\n",
       "    <tr>\n",
       "      <td>...</td>\n",
       "      <td>...</td>\n",
       "      <td>...</td>\n",
       "      <td>...</td>\n",
       "      <td>...</td>\n",
       "      <td>...</td>\n",
       "    </tr>\n",
       "    <tr>\n",
       "      <td>2020-06-26 15:40:00</td>\n",
       "      <td>15.2950</td>\n",
       "      <td>15.31</td>\n",
       "      <td>15.2600</td>\n",
       "      <td>15.2900</td>\n",
       "      <td>241552</td>\n",
       "    </tr>\n",
       "    <tr>\n",
       "      <td>2020-06-26 15:45:00</td>\n",
       "      <td>15.2800</td>\n",
       "      <td>15.41</td>\n",
       "      <td>15.2700</td>\n",
       "      <td>15.4050</td>\n",
       "      <td>429676</td>\n",
       "    </tr>\n",
       "    <tr>\n",
       "      <td>2020-06-26 15:50:00</td>\n",
       "      <td>15.4050</td>\n",
       "      <td>15.47</td>\n",
       "      <td>15.3900</td>\n",
       "      <td>15.4700</td>\n",
       "      <td>446010</td>\n",
       "    </tr>\n",
       "    <tr>\n",
       "      <td>2020-06-26 15:55:00</td>\n",
       "      <td>15.4700</td>\n",
       "      <td>15.66</td>\n",
       "      <td>15.4700</td>\n",
       "      <td>15.6600</td>\n",
       "      <td>792927</td>\n",
       "    </tr>\n",
       "    <tr>\n",
       "      <td>2020-06-26 16:00:00</td>\n",
       "      <td>15.6600</td>\n",
       "      <td>16.00</td>\n",
       "      <td>15.6600</td>\n",
       "      <td>15.8400</td>\n",
       "      <td>1968457</td>\n",
       "    </tr>\n",
       "  </tbody>\n",
       "</table>\n",
       "<p>1170 rows × 5 columns</p>\n",
       "</div>"
      ],
      "text/plain": [
       "                        open   high      low    close    volume\n",
       "timestamp                                                      \n",
       "2020-06-08 09:35:00  24.5740  24.73  23.6069  23.8539  10876318\n",
       "2020-06-08 09:40:00  23.8563  24.01  23.5100  23.8963   3177722\n",
       "2020-06-08 09:45:00  23.9000  24.20  23.7900  24.0000   2814506\n",
       "2020-06-08 09:50:00  24.0000  24.46  23.9600  24.3816   2085627\n",
       "2020-06-08 09:55:00  24.4052  24.77  24.1600  24.7503   2872558\n",
       "...                      ...    ...      ...      ...       ...\n",
       "2020-06-26 15:40:00  15.2950  15.31  15.2600  15.2900    241552\n",
       "2020-06-26 15:45:00  15.2800  15.41  15.2700  15.4050    429676\n",
       "2020-06-26 15:50:00  15.4050  15.47  15.3900  15.4700    446010\n",
       "2020-06-26 15:55:00  15.4700  15.66  15.4700  15.6600    792927\n",
       "2020-06-26 16:00:00  15.6600  16.00  15.6600  15.8400   1968457\n",
       "\n",
       "[1170 rows x 5 columns]"
      ]
     },
     "execution_count": 13,
     "metadata": {},
     "output_type": "execute_result"
    }
   ],
   "source": [
    "df"
   ]
  },
  {
   "cell_type": "code",
   "execution_count": null,
   "metadata": {},
   "outputs": [],
   "source": []
  },
  {
   "cell_type": "code",
   "execution_count": null,
   "metadata": {},
   "outputs": [],
   "source": []
  },
  {
   "cell_type": "code",
   "execution_count": null,
   "metadata": {},
   "outputs": [],
   "source": []
  },
  {
   "cell_type": "code",
   "execution_count": null,
   "metadata": {},
   "outputs": [],
   "source": []
  },
  {
   "cell_type": "code",
   "execution_count": null,
   "metadata": {},
   "outputs": [],
   "source": []
  }
 ],
 "metadata": {
  "kernelspec": {
   "display_name": "Python 3",
   "language": "python",
   "name": "python3"
  },
  "language_info": {
   "codemirror_mode": {
    "name": "ipython",
    "version": 3
   },
   "file_extension": ".py",
   "mimetype": "text/x-python",
   "name": "python",
   "nbconvert_exporter": "python",
   "pygments_lexer": "ipython3",
   "version": "3.7.4"
  }
 },
 "nbformat": 4,
 "nbformat_minor": 2
}
